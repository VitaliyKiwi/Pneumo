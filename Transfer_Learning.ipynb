{
  "nbformat": 4,
  "nbformat_minor": 0,
  "metadata": {
    "colab": {
      "name": "Transfer Learning.ipynb",
      "provenance": [],
      "collapsed_sections": [],
      "mount_file_id": "1QKy6SVKfhXkcM5T2ArQ44P59fpRJDQR0",
      "authorship_tag": "ABX9TyN9D+ntk4tfgI0GOZvW8ffC",
      "include_colab_link": true
    },
    "kernelspec": {
      "name": "python3",
      "display_name": "Python 3"
    },
    "accelerator": "GPU"
  },
  "cells": [
    {
      "cell_type": "markdown",
      "metadata": {
        "id": "view-in-github",
        "colab_type": "text"
      },
      "source": [
        "<a href=\"https://colab.research.google.com/github/VitaliyKiwi/Pneumo/blob/main/Transfer_Learning.ipynb\" target=\"_parent\"><img src=\"https://colab.research.google.com/assets/colab-badge.svg\" alt=\"Open In Colab\"/></a>"
      ]
    },
    {
      "cell_type": "markdown",
      "metadata": {
        "id": "98GOCk28tQfp"
      },
      "source": [
        "https://medium.com/analytics-vidhya/understanding-transfer-learning-image-augmentation-8456855eccb9"
      ]
    },
    {
      "cell_type": "markdown",
      "metadata": {
        "id": "85W_CE0RtTHo"
      },
      "source": [
        "Понимание трансферного обучения и увеличения изображения"
      ]
    },
    {
      "cell_type": "code",
      "metadata": {
        "id": "BETyvuYApKar"
      },
      "source": [
        "!mkdir images"
      ],
      "execution_count": 1,
      "outputs": []
    },
    {
      "cell_type": "code",
      "metadata": {
        "id": "FUPTe5DMpgTc"
      },
      "source": [
        "#!unzip code_warriors_game_of_data_ai_challenge-dataset.zip -d images/"
      ],
      "execution_count": null,
      "outputs": []
    },
    {
      "cell_type": "code",
      "metadata": {
        "id": "UXv7myMmp4Uw"
      },
      "source": [
        "import os, shutil\n",
        "import matplotlib.pyplot as plt\n",
        "import numpy as np\n",
        "import pandas as pd\n",
        "from keras.preprocessing import image\n",
        "from keras.applications.resnet import ResNet101\n",
        "from keras.layers import Dense\n",
        "from keras.models import Model, Sequential"
      ],
      "execution_count": 2,
      "outputs": []
    },
    {
      "cell_type": "code",
      "metadata": {
        "id": "zfnFQKa1p8i_"
      },
      "source": [
        "if not os.path.isdir(\"val_images\"):\n",
        "  os.mkdir(\"val_images\")"
      ],
      "execution_count": 3,
      "outputs": []
    },
    {
      "cell_type": "code",
      "metadata": {
        "id": "S8l-6VicqCsX"
      },
      "source": [
        "classes = ['NORMAL','PNEUMONIA']"
      ],
      "execution_count": 4,
      "outputs": []
    },
    {
      "cell_type": "code",
      "metadata": {
        "id": "JqruVW31qGCf"
      },
      "source": [
        "for c in classes:\n",
        "  if not os.path.isdir(\"val_images/\" + c):\n",
        "    os.mkdir(\"val_images/\" + c)"
      ],
      "execution_count": 5,
      "outputs": []
    },
    {
      "cell_type": "code",
      "metadata": {
        "id": "SgmStWHnqJSH",
        "outputId": "4e9fb207-7f8a-47cd-894d-226000ca543d",
        "colab": {
          "base_uri": "https://localhost:8080/"
        }
      },
      "source": [
        "split = 0.9\n",
        "for dirc in os.listdir(\"/content/drive/My Drive/AI_Project/chest/train\"):\n",
        "  path = \"/content/drive/My Drive/AI_Project/chest/train/\" + dirc\n",
        "  images = os.listdir(path)\n",
        "  split_size = int(len(images)*split)\n",
        "  files_to_move = images[split_size:]\n",
        "  print(files_to_move)\n",
        "  print()\n",
        "  for f in files_to_move:\n",
        "    src = os.path.join(path,f) #path+file\n",
        "    dest = os.path.join(\"val_images/\",dirc)\n",
        "    shutil.move(src,dest)"
      ],
      "execution_count": 6,
      "outputs": [
        {
          "output_type": "stream",
          "text": [
            "['NORMAL2-IM-1258-0001.jpeg', 'NORMAL2-IM-1254-0001.jpeg', 'NORMAL2-IM-1256-0001.jpeg', 'NORMAL2-IM-1241-0001.jpeg', 'NORMAL2-IM-1227-0001.jpeg', 'NORMAL2-IM-1253-0001.jpeg', 'NORMAL2-IM-1247-0001.jpeg', 'NORMAL2-IM-1222-0001.jpeg', 'NORMAL2-IM-1228-0001.jpeg', 'NORMAL2-IM-1258-0001-0002.jpeg', 'NORMAL2-IM-1226-0001.jpeg', 'NORMAL2-IM-1224-0001.jpeg', 'NORMAL2-IM-1223-0001.jpeg', 'NORMAL2-IM-1243-0001.jpeg', 'NORMAL2-IM-1242-0001.jpeg', 'NORMAL2-IM-1236-0001.jpeg', 'NORMAL2-IM-1250-0001.jpeg', 'NORMAL2-IM-1261-0001.jpeg', 'NORMAL2-IM-1240-0001.jpeg', 'NORMAL2-IM-1232-0001.jpeg', 'NORMAL2-IM-1231-0001.jpeg', 'NORMAL2-IM-1252-0001.jpeg', 'NORMAL2-IM-1257-0001.jpeg', 'NORMAL2-IM-1290-0001.jpeg', 'NORMAL2-IM-1275-0001.jpeg', 'NORMAL2-IM-1262-0001.jpeg', 'NORMAL2-IM-1267-0001.jpeg', 'NORMAL2-IM-1279-0001.jpeg']\n",
            "\n",
            "['person1311_virus_2259.jpeg', 'person1306_bacteria_3272.jpeg', 'person1311_bacteria_3312.jpeg', 'person1439_bacteria_3722.jpeg', 'person1422_virus_2434.jpeg', 'person1402_virus_2405.jpeg', 'person1396_virus_2399.jpeg', 'person1383_bacteria_3521.jpeg', 'person140_virus_285.jpeg', 'person1368_virus_2353.jpeg', 'person1384_bacteria_3522.jpeg', 'person1389_bacteria_3531.jpeg', 'person1417_bacteria_3635.jpeg', 'person1371_virus_2362.jpeg', 'person1406_virus_2409.jpeg', 'person1426_bacteria_3667.jpeg', 'person1383_virus_2377.jpeg', 'person1436_bacteria_3712.jpeg', 'person1441_virus_2457.jpeg', 'person1403_bacteria_3557.jpeg', 'person1365_virus_2348.jpeg', 'person1409_bacteria_3585.jpeg', 'person1441_virus_2454.jpeg', 'person1416_virus_2427.jpeg', 'person1411_bacteria_3604.jpeg', 'person1414_virus_2424.jpeg', 'person1430_bacteria_3693.jpeg', 'person1408_virus_2411.jpeg', 'person1405_virus_2408.jpeg', 'person1413_bacteria_3615.jpeg', 'person1387_virus_2382.jpeg', 'person1390_bacteria_3534.jpeg', 'person1428_virus_2442.jpeg', 'person1400_bacteria_3551.jpeg', 'person1405_bacteria_3564.jpeg', 'person1371_virus_2361.jpeg', 'person1415_bacteria_3629.jpeg', 'person1385_bacteria_3524.jpeg', 'person1411_bacteria_3602.jpeg', 'person1403_virus_2406.jpeg', 'person1438_bacteria_3718.jpeg', 'person1403_bacteria_3559.jpeg', 'person1418_bacteria_3643.jpeg', 'person1399_bacteria_3549.jpeg', 'person1363_bacteria_3484.jpeg', 'person1361_bacteria_3476.jpeg', 'person1361_virus_2342.jpeg', 'person1405_bacteria_3571.jpeg', 'person1365_bacteria_3489.jpeg', 'person1412_bacteria_3612.jpeg', 'person1399_virus_2402.jpeg', 'person1363_bacteria_3483.jpeg', 'person1411_bacteria_3603.jpeg', 'person1418_bacteria_3637.jpeg', 'person140_virus_284.jpeg', 'person1430_bacteria_3695.jpeg', 'person135_virus_270.jpeg', 'person1426_bacteria_3668.jpeg', 'person1377_bacteria_3512.jpeg', 'person1441_bacteria_3724.jpeg', 'person1419_bacteria_3645.jpeg', 'person1391_bacteria_3537.jpeg', 'person1408_bacteria_3579.jpeg', 'person1409_bacteria_3583.jpeg', 'person1414_bacteria_3628.jpeg', 'person1433_virus_2447.jpeg', 'person1407_virus_2410.jpeg', 'person1368_virus_2352.jpeg', 'person1378_bacteria_3513.jpeg', 'person1439_virus_2453.jpeg', 'person1388_bacteria_3529.jpeg', 'person1368_virus_2354.jpeg', 'person1430_bacteria_3697.jpeg', 'person1372_bacteria_3503.jpeg', 'person1413_virus_2423.jpeg', 'person1405_bacteria_3573.jpeg', 'person1381_bacteria_3516.jpeg', 'person1433_bacteria_3704.jpeg', 'person1411_bacteria_3598.jpeg', 'person1418_bacteria_3639.jpeg', 'person1411_bacteria_3609.jpeg', 'person1397_virus_2400.jpeg', 'person1429_virus_2443.jpeg', 'person1360_virus_2341.jpeg', 'person1431_bacteria_3698.jpeg', 'person1411_bacteria_3593.jpeg', 'person1411_bacteria_3601.jpeg', 'person1372_bacteria_3501.jpeg', 'person1358_bacteria_3463.jpeg', 'person1374_bacteria_3506.jpeg', 'person141_virus_287.jpeg', 'person1366_bacteria_3490.jpeg', 'person1379_bacteria_3514.jpeg', 'person1415_virus_2425.jpeg', 'person1361_bacteria_3477.jpeg', 'person1438_bacteria_3715.jpeg', 'person1418_bacteria_3638.jpeg', 'person1358_virus_2339.jpeg', 'person138_virus_282.jpeg', 'person1433_bacteria_3701.jpeg', 'person1422_bacteria_3649.jpeg', 'person1411_bacteria_3607.jpeg', 'person1395_virus_2398.jpeg', 'person1372_bacteria_3502.jpeg', 'person1433_bacteria_3705.jpeg', 'person1393_virus_2396.jpeg', 'person1361_virus_2344.jpeg', 'person1372_bacteria_3498.jpeg', 'person1396_bacteria_3545.jpeg', 'person1375_bacteria_3509.jpeg', 'person1425_virus_2438.jpeg', 'person137_virus_281.jpeg', 'person1358_bacteria_3465.jpeg', 'person1377_virus_2369.jpeg', 'person139_virus_283.jpeg', 'person1362_virus_2345.jpeg', 'person1438_bacteria_3721.jpeg', 'person1405_bacteria_3566.jpeg', 'person1404_bacteria_3561.jpeg', 'person1366_virus_2349.jpeg', 'person1438_virus_2452.jpeg', 'person1440_bacteria_3723.jpeg', 'person1400_bacteria_3554.jpeg', 'person1400_bacteria_3550.jpeg', 'person1376_bacteria_3511.jpeg', 'person1401_bacteria_3555.jpeg', 'person1411_bacteria_3610.jpeg', 'person1369_virus_2355.jpeg', 'person1390_bacteria_3535.jpeg', 'person1424_virus_2437.jpeg', 'person135_virus_271.jpeg', 'person1409_virus_2413.jpeg', 'person1372_bacteria_3499.jpeg', 'person1411_bacteria_3591.jpeg', 'person1398_virus_2401.jpeg', 'person1363_virus_2346.jpeg', 'person1408_bacteria_3581.jpeg', 'person1426_virus_2439.jpeg', 'person1375_bacteria_3510.jpeg', 'person1394_virus_2397.jpeg', 'person1400_bacteria_3553.jpeg', 'person1392_bacteria_3538.jpeg', 'person1413_virus_2422.jpeg', 'person1424_bacteria_3651.jpeg', 'person1423_bacteria_3650.jpeg', 'person1385_virus_2380.jpeg', 'person1430_bacteria_3694.jpeg', 'person1418_virus_2429.jpeg', 'person143_virus_289.jpeg', 'person1389_virus_2387.jpeg', 'person1391_bacteria_3536.jpeg', 'person1374_virus_2365.jpeg', 'person1375_virus_2366.jpeg', 'person1398_bacteria_3548.jpeg', 'person142_virus_288.jpeg', 'person1413_bacteria_3617.jpeg', 'person1395_bacteria_3544.jpeg', 'person1411_bacteria_3599.jpeg', 'person1406_bacteria_3575.jpeg', 'person1367_virus_2351.jpeg', 'person1432_bacteria_3699.jpeg', 'person1359_virus_2340.jpeg', 'person1405_bacteria_3567.jpeg', 'person1427_virus_2441.jpeg', 'person1429_bacteria_3690.jpeg', 'person1420_virus_2431.jpeg', 'person1429_bacteria_3688.jpeg', 'person1413_bacteria_3613.jpeg', 'person1429_bacteria_3691.jpeg', 'person1374_bacteria_3507.jpeg', 'person1381_virus_2375.jpeg', 'person1376_virus_2367.jpeg', 'person1430_bacteria_3696.jpeg', 'person1430_virus_2444.jpeg', 'person1406_bacteria_3574.jpeg', 'person1436_bacteria_3711.jpeg', 'person1420_bacteria_3647.jpeg', 'person1369_virus_2356.jpeg', 'person1414_bacteria_3627.jpeg', 'person1413_bacteria_3620.jpeg', 'person1381_bacteria_3517.jpeg', 'person1372_bacteria_3500.jpeg', 'person1418_bacteria_3636.jpeg', 'person1380_bacteria_3515.jpeg', 'person1411_virus_2415.jpeg', 'person1481_bacteria_3863.jpeg', 'person1496_virus_2606.jpeg', 'person1480_bacteria_3859.jpeg', 'person1468_virus_2546.jpeg', 'person1445_bacteria_3735.jpeg', 'person1476_bacteria_3842.jpeg', 'person147_virus_297.jpeg', 'person1488_virus_2585.jpeg', 'person1449_bacteria_3743.jpeg', 'person1488_virus_2589.jpeg', 'person1504_virus_2614.jpeg', 'person1488_bacteria_3887.jpeg', 'person1512_bacteria_3958.jpeg', 'person1472_virus_2550.jpeg', 'person1469_virus_2547.jpeg', 'person1451_virus_2480.jpeg', 'person1455_virus_2488.jpeg', 'person1455_virus_2487.jpeg', 'person1490_bacteria_3891.jpeg', 'person1453_virus_2485.jpeg', 'person1486_bacteria_3884.jpeg', 'person1463_bacteria_3811.jpeg', 'person1449_bacteria_3747.jpeg', 'person1486_bacteria_3881.jpeg', 'person1512_virus_2631.jpeg', 'person1488_virus_2593.jpeg', 'person1491_bacteria_3893.jpeg', 'person1458_virus_2502.jpeg', 'person1507_bacteria_3946.jpeg', 'person1514_virus_2633.jpeg', 'person1454_bacteria_3779.jpeg', 'person1458_virus_2503.jpeg', 'person1459_virus_2506.jpeg', 'person1493_bacteria_3898.jpeg', 'person1502_bacteria_3923.jpeg', 'person1488_virus_2587.jpeg', 'person1499_virus_2609.jpeg', 'person1451_virus_2479.jpeg', 'person1448_virus_2468.jpeg', 'person1489_virus_2594.jpeg', 'person1496_bacteria_3905.jpeg', 'person1514_bacteria_3964.jpeg', 'person1473_virus_2553.jpeg', 'person1449_bacteria_3746.jpeg', 'person1484_bacteria_3878.jpeg', 'person1481_bacteria_3867.jpeg', 'person1482_bacteria_3874.jpeg', 'person1471_virus_2549.jpeg', 'person1449_virus_2476.jpeg', 'person1478_bacteria_3848.jpeg', 'person1449_bacteria_3745.jpeg', 'person1511_bacteria_3955.jpeg', 'person1507_bacteria_3943.jpeg', 'person1507_bacteria_3948.jpeg', 'person1465_virus_2530.jpeg', 'person1496_bacteria_3911.jpeg', 'person1472_bacteria_3834.jpeg', 'person1445_bacteria_3734.jpeg', 'person1476_virus_2560.jpeg', 'person1467_virus_2544.jpeg', 'person1454_virus_2486.jpeg', 'person1482_virus_2569.jpeg', 'person1450_bacteria_3753.jpeg', 'person1460_virus_2507.jpeg', 'person1502_bacteria_3928.jpeg', 'person1088_bacteria_3028.jpeg', 'person1045_bacteria_2979.jpeg', 'person1057_virus_1756.jpeg', 'person1068_virus_1771.jpeg', 'person1115_bacteria_3056.jpeg', 'person1118_bacteria_3059.jpeg', 'person1149_virus_1924.jpeg', 'person1078_virus_1788.jpeg', 'person1086_virus_1798.jpeg', 'person1159_bacteria_3104.jpeg', 'person1125_bacteria_3066.jpeg', 'person1048_virus_1744.jpeg', 'person1084_virus_1796.jpeg', 'person1107_virus_1831.jpeg', 'person1063_bacteria_2997.jpeg', 'person1103_virus_1825.jpeg', 'person1149_virus_1925.jpeg', 'person108_virus_199.jpeg', 'person1134_bacteria_3076.jpeg', 'person1069_bacteria_3003.jpeg', 'person1154_virus_1933.jpeg', 'person1092_virus_1811.jpeg', 'person1153_virus_1932.jpeg', 'person1115_virus_1840.jpeg', 'person1077_bacteria_3017.jpeg', 'person1056_virus_1755.jpeg', 'person1038_virus_1733.jpeg', 'person1067_bacteria_3001.jpeg', 'person1033_bacteria_2966.jpeg', 'person1026_virus_1718.jpeg', 'person1031_virus_1723.jpeg', 'person1158_virus_1941.jpeg', 'person1093_bacteria_3033.jpeg', 'person1052_virus_1751.jpeg', 'person1098_virus_1818.jpeg', 'person1158_virus_1938.jpeg', 'person1131_bacteria_3073.jpeg', 'person1097_virus_1817.jpeg', 'person1072_bacteria_3006.jpeg', 'person1127_bacteria_3068.jpeg', 'person1100_virus_1820.jpeg', 'person1050_bacteria_2984.jpeg', 'person1116_virus_1841.jpeg', 'person1106_virus_1829.jpeg', 'person110_virus_205.jpeg', 'person1031_bacteria_2963.jpeg', 'person1144_bacteria_3089.jpeg', 'person1023_virus_1714.jpeg', 'person1138_bacteria_3080.jpeg', 'person1107_bacteria_3048.jpeg', 'person1089_bacteria_3029.jpeg', 'person1098_bacteria_3039.jpeg', 'person1092_bacteria_3032.jpeg', 'person1085_bacteria_3025.jpeg', 'person1062_bacteria_2996.jpeg', 'person1099_bacteria_3040.jpeg', 'person1040_virus_1735.jpeg', 'person110_virus_207.jpeg', 'person1100_bacteria_3041.jpeg', 'person1038_bacteria_2972.jpeg', 'person1020_virus_1710.jpeg', 'person1051_virus_1750.jpeg', 'person1110_virus_1835.jpeg', 'person1075_bacteria_3015.jpeg', 'person1149_bacteria_3094.jpeg', 'person1044_bacteria_2978.jpeg', 'person102_virus_189.jpeg', 'person1112_virus_1837.jpeg', 'person1142_virus_1892.jpeg', 'person111_virus_209.jpeg', 'person112_virus_213.jpeg', 'person1088_virus_1800.jpeg', 'person1157_bacteria_3102.jpeg', 'person1058_virus_1757.jpeg', 'person1143_virus_1897.jpeg', 'person1046_bacteria_2980.jpeg', 'person1086_bacteria_3026.jpeg', 'person1158_bacteria_3103.jpeg', 'person1101_bacteria_3042.jpeg', 'person1053_bacteria_2987.jpeg']\n",
            "\n"
          ],
          "name": "stdout"
        }
      ]
    },
    {
      "cell_type": "code",
      "metadata": {
        "id": "sQSX1g1hrfzj",
        "outputId": "445458f2-cdef-4a9d-8b02-be913aadae0a",
        "colab": {
          "base_uri": "https://localhost:8080/"
        }
      },
      "source": [
        "for dirc in os.listdir(\"/content/drive/My Drive/AI_Project/chest/train\"):\n",
        "  path = \"/content/drive/My Drive/AI_Project/chest/train/\" + dirc\n",
        "  img = os.listdir(path)\n",
        "  print(dirc, len(img))"
      ],
      "execution_count": 7,
      "outputs": [
        {
          "output_type": "stream",
          "text": [
            "NORMAL 251\n",
            "PNEUMONIA 2970\n"
          ],
          "name": "stdout"
        }
      ]
    },
    {
      "cell_type": "code",
      "metadata": {
        "id": "Rj5cCE5Rr8fi",
        "outputId": "90ffdf2e-a081-49b6-edc9-9a67a30668b3",
        "colab": {
          "base_uri": "https://localhost:8080/"
        }
      },
      "source": [
        "for dirc in os.listdir(\"val_images/\"):\n",
        "  path = \"val_images/\" + dirc \n",
        "  img = os.listdir(path)\n",
        "  print(dirc, len(img))"
      ],
      "execution_count": 8,
      "outputs": [
        {
          "output_type": "stream",
          "text": [
            "NORMAL 28\n",
            "PNEUMONIA 330\n"
          ],
          "name": "stdout"
        }
      ]
    },
    {
      "cell_type": "code",
      "metadata": {
        "id": "6R0TUj5usWp8"
      },
      "source": [
        "train_gen = image.ImageDataGenerator(rotation_range=25,\n",
        "                                     width_shift_range = 0.3,\n",
        "                                     height_shift_range = 0.25,\n",
        "                                     shear_range = 0.2,\n",
        "                                     zoom_range = 0.3,\n",
        "                                     horizontal_flip = True\n",
        "                                     )"
      ],
      "execution_count": 9,
      "outputs": []
    },
    {
      "cell_type": "code",
      "metadata": {
        "id": "qip9eL4qsbX_"
      },
      "source": [
        "val_datagen = image.ImageDataGenerator()"
      ],
      "execution_count": 10,
      "outputs": []
    },
    {
      "cell_type": "code",
      "metadata": {
        "id": "rgFTaTQKseav",
        "outputId": "284199fa-c32d-445a-e6cc-2a18995a8d2b",
        "colab": {
          "base_uri": "https://localhost:8080/"
        }
      },
      "source": [
        "train_generator = train_gen.flow_from_directory(\n",
        "                                      \"/content/drive/My Drive/AI_Project/chest/train\",                                                                                      \n",
        "                                      target_size = (224,224), \n",
        "                                      class_mode = \"binary\",\n",
        "                                      shuffle = True,\n",
        "                                      batch_size = 32\n",
        "                                      )"
      ],
      "execution_count": 11,
      "outputs": [
        {
          "output_type": "stream",
          "text": [
            "Found 3221 images belonging to 2 classes.\n"
          ],
          "name": "stdout"
        }
      ]
    },
    {
      "cell_type": "code",
      "metadata": {
        "id": "GiZN30yGsm9Q",
        "outputId": "02169163-f427-4a36-c651-ed8a4edcd517",
        "colab": {
          "base_uri": "https://localhost:8080/"
        }
      },
      "source": [
        "val_generator = val_datagen.flow_from_directory(\"val_images/\",\n",
        "                                         target_size = (224,224),\n",
        "                                         class_mode = 'binary',\n",
        "                                         batch_size=32)"
      ],
      "execution_count": 12,
      "outputs": [
        {
          "output_type": "stream",
          "text": [
            "Found 358 images belonging to 2 classes.\n"
          ],
          "name": "stdout"
        }
      ]
    },
    {
      "cell_type": "code",
      "metadata": {
        "id": "7Tn-gKUOsrQ4",
        "outputId": "1a587eb7-2c4e-4cb3-96ee-6ebf4b87b200",
        "colab": {
          "base_uri": "https://localhost:8080/"
        }
      },
      "source": [
        "resnet = ResNet101(include_top= True, weights= \"imagenet\")"
      ],
      "execution_count": 13,
      "outputs": [
        {
          "output_type": "stream",
          "text": [
            "Downloading data from https://storage.googleapis.com/tensorflow/keras-applications/resnet/resnet101_weights_tf_dim_ordering_tf_kernels.h5\n",
            "179650560/179648224 [==============================] - 1s 0us/step\n"
          ],
          "name": "stdout"
        }
      ]
    },
    {
      "cell_type": "code",
      "metadata": {
        "id": "kpNS8el3suyI"
      },
      "source": [
        "#get top n-2 layers\n",
        "x = resnet.layers[-2].output\n",
        "fun = Dense(11, activation = \"softmax\")(x)"
      ],
      "execution_count": 14,
      "outputs": []
    },
    {
      "cell_type": "code",
      "metadata": {
        "id": "SGXWxgOas1tY"
      },
      "source": [
        "model = Model(inputs=resnet.input, outputs = fun)"
      ],
      "execution_count": 15,
      "outputs": []
    },
    {
      "cell_type": "code",
      "metadata": {
        "id": "D1eiQX0Is4HY"
      },
      "source": [
        "# Freeze layers\n",
        "for l in model.layers[:-30]:\n",
        "  l.trainable = False\n",
        "model.compile(optimizer=\"sgd\", loss = \"binary_crossentropy\",            \n",
        "  metrics=[\"accuracy\"])"
      ],
      "execution_count": 16,
      "outputs": []
    },
    {
      "cell_type": "code",
      "metadata": {
        "id": "Kwed4trps7Qh"
      },
      "source": [
        "model.summary()"
      ],
      "execution_count": null,
      "outputs": []
    },
    {
      "cell_type": "code",
      "metadata": {
        "id": "CEjb-oWutAT4"
      },
      "source": [
        "hist = model.fit(train_generator,\n",
        "                 steps_per_epoch=3937//32,\n",
        "                 epochs=50,\n",
        "                 validation_data=val_generator,\n",
        "                 validation_steps=497//32)"
      ],
      "execution_count": null,
      "outputs": []
    },
    {
      "cell_type": "code",
      "metadata": {
        "id": "W96cr8imtGmY"
      },
      "source": [
        "model.evaluate(val_generator)"
      ],
      "execution_count": null,
      "outputs": []
    },
    {
      "cell_type": "code",
      "metadata": {
        "id": "hL0mDzUWtJiA"
      },
      "source": [
        "model.save('my_model')"
      ],
      "execution_count": null,
      "outputs": []
    }
  ]
}